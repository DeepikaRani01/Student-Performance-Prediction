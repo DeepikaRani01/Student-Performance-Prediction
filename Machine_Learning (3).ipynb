{
 "cells": [
  {
   "cell_type": "code",
   "execution_count": 26,
   "id": "0a680bb4-96ce-431f-81b7-009d5f25eeed",
   "metadata": {},
   "outputs": [],
   "source": [
    "import pandas as pd"
   ]
  },
  {
   "cell_type": "markdown",
   "id": "b0dd2f43-22bc-4d35-adda-91cc64bf6ae3",
   "metadata": {},
   "source": [
    "# Importing Required Libraries"
   ]
  },
  {
   "cell_type": "markdown",
   "id": "6ad33667-e1af-4cfc-8f26-0969ebc5dfe5",
   "metadata": {},
   "source": [
    "## Data preprocessing and model selection"
   ]
  },
  {
   "cell_type": "code",
   "execution_count": 28,
   "id": "1423106f-999b-4b91-9cb5-d422ee7de9e6",
   "metadata": {},
   "outputs": [],
   "source": [
    "from sklearn.model_selection import train_test_split\n",
    "from sklearn.preprocessing import LabelEncoder\n"
   ]
  },
  {
   "cell_type": "markdown",
   "id": "3491c2cd-66f3-4d55-b255-b3edf3afc61e",
   "metadata": {},
   "source": [
    "## Regression & Classification models"
   ]
  },
  {
   "cell_type": "code",
   "execution_count": 80,
   "id": "78568465-298d-4f0e-b4a7-ee2cfe00cd95",
   "metadata": {},
   "outputs": [],
   "source": [
    "from sklearn.linear_model import LinearRegression, LogisticRegression\n",
    "from sklearn.ensemble import RandomForestRegressor, RandomForestClassifier\n",
    "from sklearn.tree import DecisionTreeClassifier\n",
    "from sklearn.tree import DecisionTreeClassifier"
   ]
  },
  {
   "cell_type": "markdown",
   "id": "a1028c8d-e281-4a73-adb6-56ec34d60e98",
   "metadata": {},
   "source": [
    " ## Model evaluation metrics"
   ]
  },
  {
   "cell_type": "code",
   "execution_count": 32,
   "id": "0d1e72d5-8533-47b6-af90-663e121dc404",
   "metadata": {},
   "outputs": [],
   "source": [
    "from sklearn.metrics import mean_absolute_error, mean_squared_error, r2_score, accuracy_score, classification_report\n"
   ]
  },
  {
   "cell_type": "markdown",
   "id": "b431cf7d-03d1-4474-af0d-4dce8cd3828c",
   "metadata": {},
   "source": [
    "## Visualization libraries"
   ]
  },
  {
   "cell_type": "code",
   "execution_count": 34,
   "id": "aec6acb6-3f90-4cf1-adc2-c9975def647e",
   "metadata": {},
   "outputs": [],
   "source": [
    "import matplotlib.pyplot as plt\n",
    "import seaborn as sns"
   ]
  },
  {
   "cell_type": "code",
   "execution_count": 36,
   "id": "7c9346e7-94ce-4744-84de-c638fb3bcd53",
   "metadata": {},
   "outputs": [],
   "source": [
    "#load CSV\n",
    "df = pd.read_csv(r\"C:\\Users\\athir\\Downloads\\final_cleaned_student_data.csv\")"
   ]
  },
  {
   "cell_type": "code",
   "execution_count": 38,
   "id": "0987d8fb-6ff7-46d3-8981-79fd11f0ac08",
   "metadata": {},
   "outputs": [],
   "source": [
    "df.dropna(subset=['math score', 'reading score', 'writing score'], inplace=True)"
   ]
  },
  {
   "cell_type": "markdown",
   "id": "43999146-7b57-45b8-9ebf-da02bafcb9b4",
   "metadata": {},
   "source": [
    "# Categorizing Students Based on Average Score"
   ]
  },
  {
   "cell_type": "code",
   "execution_count": 52,
   "id": "dd390a3c-1372-48fb-87dd-a7911e4d1238",
   "metadata": {},
   "outputs": [
    {
     "name": "stdout",
     "output_type": "stream",
     "text": [
      "     gender  race/ethnicity  parental level of education  lunch  \\\n",
      "0         0               1                            1      1   \n",
      "1         0               2                            4      1   \n",
      "2         0               1                            3      1   \n",
      "3         1               0                            0      0   \n",
      "4         1               2                            4      1   \n",
      "..      ...             ...                          ...    ...   \n",
      "995       0               4                            3      1   \n",
      "996       1               2                            2      0   \n",
      "997       0               2                            2      0   \n",
      "998       0               3                            4      1   \n",
      "999       0               3                            4      0   \n",
      "\n",
      "     test preparation course  math score  reading score  writing score  \\\n",
      "0                          1          72             72             74   \n",
      "1                          0          69             90             88   \n",
      "2                          1          90             95             93   \n",
      "3                          1          47             57             44   \n",
      "4                          1          76             78             75   \n",
      "..                       ...         ...            ...            ...   \n",
      "995                        0          88             99             95   \n",
      "996                        1          62             55             55   \n",
      "997                        0          59             71             65   \n",
      "998                        0          68             78             77   \n",
      "999                        1          77             86             86   \n",
      "\n",
      "     average_score performance_category  prep_effectiveness  \n",
      "0        72.666667               Medium                   1  \n",
      "1        82.333333                 High                   0  \n",
      "2        92.666667                 High                   1  \n",
      "3        49.333333                  Low                   1  \n",
      "4        76.333333               Medium                   1  \n",
      "..             ...                  ...                 ...  \n",
      "995      94.000000                 High                   0  \n",
      "996      57.333333                  Low                   1  \n",
      "997      65.000000               Medium                   0  \n",
      "998      74.333333               Medium                   0  \n",
      "999      83.000000                 High                   1  \n",
      "\n",
      "[1000 rows x 11 columns]\n"
     ]
    }
   ],
   "source": [
    "def categorize(score):\n",
    "    if score >= 80:\n",
    "        return 'High'\n",
    "    elif score >= 60:\n",
    "        return 'Medium'\n",
    "    else:\n",
    "        return 'Low'\n",
    "\n",
    "# Applying catIegorization to create a new column\n",
    "df['performance_category'] = df['average_score'].apply(categorize)\n",
    "\n",
    "print(df)\n"
   ]
  },
  {
   "cell_type": "markdown",
   "id": "2881257e-a2ff-4c2a-b004-db364055bfc5",
   "metadata": {},
   "source": [
    "#  Encoding Categorical Variables"
   ]
  },
  {
   "cell_type": "code",
   "execution_count": 54,
   "id": "cb7a6cc9-0173-450c-b3b5-ba88c72fb39b",
   "metadata": {},
   "outputs": [
    {
     "name": "stdout",
     "output_type": "stream",
     "text": [
      "Encoded DataFrame:\n",
      "     gender  race/ethnicity  parental level of education  lunch  \\\n",
      "0         0               1                            1      1   \n",
      "1         0               2                            4      1   \n",
      "2         0               1                            3      1   \n",
      "3         1               0                            0      0   \n",
      "4         1               2                            4      1   \n",
      "..      ...             ...                          ...    ...   \n",
      "995       0               4                            3      1   \n",
      "996       1               2                            2      0   \n",
      "997       0               2                            2      0   \n",
      "998       0               3                            4      1   \n",
      "999       0               3                            4      0   \n",
      "\n",
      "     test preparation course  math score  reading score  writing score  \\\n",
      "0                          1          72             72             74   \n",
      "1                          0          69             90             88   \n",
      "2                          1          90             95             93   \n",
      "3                          1          47             57             44   \n",
      "4                          1          76             78             75   \n",
      "..                       ...         ...            ...            ...   \n",
      "995                        0          88             99             95   \n",
      "996                        1          62             55             55   \n",
      "997                        0          59             71             65   \n",
      "998                        0          68             78             77   \n",
      "999                        1          77             86             86   \n",
      "\n",
      "     average_score  performance_category  prep_effectiveness  \n",
      "0        72.666667                     2                   1  \n",
      "1        82.333333                     0                   0  \n",
      "2        92.666667                     0                   1  \n",
      "3        49.333333                     1                   1  \n",
      "4        76.333333                     2                   1  \n",
      "..             ...                   ...                 ...  \n",
      "995      94.000000                     0                   0  \n",
      "996      57.333333                     1                   1  \n",
      "997      65.000000                     2                   0  \n",
      "998      74.333333                     2                   0  \n",
      "999      83.000000                     0                   1  \n",
      "\n",
      "[1000 rows x 11 columns]\n",
      "\n",
      "Encoders and their mappings:\n",
      "performance_category: {'High': 0, 'Low': 1, 'Medium': 2}\n"
     ]
    }
   ],
   "source": [
    "# Identify categorical columns (dtype = object)\n",
    "categorical_cols = df.select_dtypes(include='object').columns\n",
    "\n",
    "# Initialize a dictionary to store label encoders for each column\n",
    "encoders = {}\n",
    "\n",
    "# Apply Label Encoding to each categorical column\n",
    "for col in categorical_cols:\n",
    "    le = LabelEncoder()\n",
    "    df[col] = le.fit_transform(df[col])\n",
    "    encoders[col] = le\n",
    "\n",
    "print(\"Encoded DataFrame:\")\n",
    "print(df)\n",
    "\n",
    "print(\"\\nEncoders and their mappings:\")\n",
    "for col, le in encoders.items():\n",
    "    print(f\"{col}: {dict(zip(le.classes_, le.transform(le.classes_)))}\")\n",
    "\n"
   ]
  },
  {
   "cell_type": "markdown",
   "id": "51fb5203-5c37-41ca-b31e-a3ef906a36ca",
   "metadata": {},
   "source": [
    "#  Regression Task: Predicting Average Score"
   ]
  },
  {
   "cell_type": "code",
   "execution_count": 56,
   "id": "cfcb0a01-66b3-4954-a91d-dd6a08ce7507",
   "metadata": {},
   "outputs": [
    {
     "name": "stdout",
     "output_type": "stream",
     "text": [
      "X_train_reg:\n",
      "     gender  race/ethnicity  parental level of education  lunch  \\\n",
      "29        0               3                            3      1   \n",
      "535       0               2                            1      0   \n",
      "695       0               3                            4      0   \n",
      "557       1               2                            3      0   \n",
      "836       1               4                            2      1   \n",
      "..      ...             ...                          ...    ...   \n",
      "106       0               3                            3      1   \n",
      "270       1               2                            1      1   \n",
      "860       0               2                            0      1   \n",
      "435       1               2                            4      0   \n",
      "102       0               3                            0      1   \n",
      "\n",
      "     test preparation course  prep_effectiveness  \n",
      "29                         1                   1  \n",
      "535                        0                   0  \n",
      "695                        1                   1  \n",
      "557                        1                   1  \n",
      "836                        1                   1  \n",
      "..                       ...                 ...  \n",
      "106                        1                   1  \n",
      "270                        1                   1  \n",
      "860                        1                   1  \n",
      "435                        0                   0  \n",
      "102                        1                   1  \n",
      "\n",
      "[800 rows x 6 columns]\n",
      "\n",
      "X_test_reg:\n",
      "     gender  race/ethnicity  parental level of education  lunch  \\\n",
      "521       0               2                            0      1   \n",
      "737       0               1                            4      0   \n",
      "740       1               3                            1      1   \n",
      "660       1               2                            4      0   \n",
      "411       1               4                            4      1   \n",
      "..      ...             ...                          ...    ...   \n",
      "408       0               3                            2      0   \n",
      "332       1               4                            0      1   \n",
      "208       0               1                            4      0   \n",
      "613       0               2                            0      1   \n",
      "78        0               3                            5      1   \n",
      "\n",
      "     test preparation course  prep_effectiveness  \n",
      "521                        1                   1  \n",
      "737                        0                   0  \n",
      "740                        1                   1  \n",
      "660                        1                   1  \n",
      "411                        0                   0  \n",
      "..                       ...                 ...  \n",
      "408                        0                   0  \n",
      "332                        0                   0  \n",
      "208                        1                   1  \n",
      "613                        1                   1  \n",
      "78                         0                   0  \n",
      "\n",
      "[200 rows x 6 columns]\n",
      "\n",
      "y_train_reg:\n",
      "29     69.000000\n",
      "535    77.333333\n",
      "695    84.666667\n",
      "557    64.666667\n",
      "836    64.666667\n",
      "         ...    \n",
      "106    95.666667\n",
      "270    64.333333\n",
      "860    56.000000\n",
      "435    50.333333\n",
      "102    88.333333\n",
      "Name: average_score, Length: 800, dtype: float64\n",
      "\n",
      "y_test_reg:\n",
      "521    87.000000\n",
      "737    64.000000\n",
      "740    75.000000\n",
      "660    74.666667\n",
      "411    81.666667\n",
      "         ...    \n",
      "408    55.000000\n",
      "332    57.000000\n",
      "208    77.000000\n",
      "613    72.000000\n",
      "78     69.000000\n",
      "Name: average_score, Length: 200, dtype: float64\n"
     ]
    }
   ],
   "source": [
    "#  Features (X) exclude individual subject scores and target columns\n",
    "X_reg = df.drop(columns=['math score', 'reading score', 'writing score', 'average_score', 'performance_category'])\n",
    "y_reg = df['average_score']\n",
    "\n",
    "#  Splitting data into training and testing sets \n",
    "X_train_reg, X_test_reg, y_train_reg, y_test_reg = train_test_split(X_reg, y_reg, test_size=0.2, random_state=42)\n",
    "\n",
    "\n",
    "print(\"X_train_reg:\")\n",
    "print(X_train_reg)\n",
    "print(\"\\nX_test_reg:\")\n",
    "print(X_test_reg)\n",
    "print(\"\\ny_train_reg:\")\n",
    "print(y_train_reg)\n",
    "print(\"\\ny_test_reg:\")\n",
    "print(y_test_reg)"
   ]
  },
  {
   "cell_type": "markdown",
   "id": "7ca5d2b9-aeb4-48c8-b229-f61b77ba3cd8",
   "metadata": {},
   "source": [
    "#### Linear Regression"
   ]
  },
  {
   "cell_type": "code",
   "execution_count": 60,
   "id": "465ec577-e011-413a-8b2f-55ced7065615",
   "metadata": {},
   "outputs": [],
   "source": [
    "lr = LinearRegression()\n",
    "lr.fit(X_train_reg, y_train_reg)\n",
    "y_pred_lr = lr.predict(X_test_reg)\n"
   ]
  },
  {
   "cell_type": "markdown",
   "id": "930e1069-5133-4f35-8655-b98ef13c4853",
   "metadata": {},
   "source": [
    "#### Random Forest Regressor"
   ]
  },
  {
   "cell_type": "code",
   "execution_count": 90,
   "id": "47ef1862-9edd-42af-b7ce-45d5b0f16068",
   "metadata": {},
   "outputs": [
    {
     "name": "stdout",
     "output_type": "stream",
     "text": [
      "First 10 predictions:\n",
      "[67.30361801 70.25635714 62.20345851 57.11210317 79.85266667 60.04963492\n",
      " 67.68469048 61.25016667 60.21027226 70.10107419]\n"
     ]
    }
   ],
   "source": [
    "rf_reg = RandomForestRegressor(random_state=42)\n",
    "rf_reg.fit(X_train_reg, y_train_reg)\n",
    "y_pred_rf = rf_reg.predict(X_test_reg)\n",
    "\n",
    "\n",
    "print(\"First 10 predictions:\")\n",
    "print(y_pred_rf[:10])\n",
    "\n"
   ]
  },
  {
   "cell_type": "markdown",
   "id": "65d51b93-cc39-46cb-a35c-1794aa9bf968",
   "metadata": {},
   "source": [
    "# Regression Model Evaluation Function"
   ]
  },
  {
   "cell_type": "code",
   "execution_count": 50,
   "id": "35c77600-1180-4b87-afe4-816845822975",
   "metadata": {},
   "outputs": [
    {
     "name": "stdout",
     "output_type": "stream",
     "text": [
      "--- Linear Regression ---\n",
      "MAE : 10.717163335369497\n",
      "MSE : 187.4495832223678\n",
      "R²  : 0.1255652122569746\n",
      "\n",
      "--- Random Forest Regressor ---\n",
      "MAE : 11.53968164923378\n",
      "MSE : 220.53275281124536\n",
      "R²  : -0.028764682107200512\n",
      "\n"
     ]
    }
   ],
   "source": [
    "def evaluate_regression(y_true, y_pred, model_name):\n",
    "    print(f\"--- {model_name} ---\")\n",
    "    print(\"MAE :\", mean_absolute_error(y_true, y_pred))\n",
    "    print(\"MSE :\", mean_squared_error(y_true, y_pred))\n",
    "    print(\"R²  :\", r2_score(y_true, y_pred))\n",
    "    print()\n",
    "\n",
    "# Evaluating Linear Regression and Random Forest Regressor\n",
    "evaluate_regression(y_test_reg, y_pred_lr, \"Linear Regression\")\n",
    "evaluate_regression(y_test_reg, y_pred_rf, \"Random Forest Regressor\")"
   ]
  },
  {
   "cell_type": "markdown",
   "id": "2ec2bf67-b00a-4ec8-b82c-83d6110b9075",
   "metadata": {},
   "source": [
    "#### Predicting Performance Category"
   ]
  },
  {
   "cell_type": "code",
   "execution_count": 62,
   "id": "c75c3a9c-6902-426d-b356-293df984871e",
   "metadata": {},
   "outputs": [
    {
     "name": "stdout",
     "output_type": "stream",
     "text": [
      "Features for Classification (X_clf):\n",
      "     gender  race/ethnicity  parental level of education  lunch  \\\n",
      "0         0               1                            1      1   \n",
      "1         0               2                            4      1   \n",
      "2         0               1                            3      1   \n",
      "3         1               0                            0      0   \n",
      "4         1               2                            4      1   \n",
      "..      ...             ...                          ...    ...   \n",
      "995       0               4                            3      1   \n",
      "996       1               2                            2      0   \n",
      "997       0               2                            2      0   \n",
      "998       0               3                            4      1   \n",
      "999       0               3                            4      0   \n",
      "\n",
      "     test preparation course  prep_effectiveness  \n",
      "0                          1                   1  \n",
      "1                          0                   0  \n",
      "2                          1                   1  \n",
      "3                          1                   1  \n",
      "4                          1                   1  \n",
      "..                       ...                 ...  \n",
      "995                        0                   0  \n",
      "996                        1                   1  \n",
      "997                        0                   0  \n",
      "998                        0                   0  \n",
      "999                        1                   1  \n",
      "\n",
      "[1000 rows x 6 columns]\n",
      "\n",
      "Target for Classification (y_clf):\n",
      "0      2\n",
      "1      0\n",
      "2      0\n",
      "3      1\n",
      "4      2\n",
      "      ..\n",
      "995    0\n",
      "996    1\n",
      "997    2\n",
      "998    2\n",
      "999    0\n",
      "Name: performance_category, Length: 1000, dtype: int32\n"
     ]
    }
   ],
   "source": [
    "X_clf = df.drop(columns=['math score', 'reading score', 'writing score', 'average_score', 'performance_category'])\n",
    "y_clf = df['performance_category']\n",
    "\n",
    "print(\"Features for Classification (X_clf):\")\n",
    "print(X_clf)\n",
    "\n",
    "print(\"\\nTarget for Classification (y_clf):\")\n",
    "print(y_clf)"
   ]
  },
  {
   "cell_type": "code",
   "execution_count": 64,
   "id": "22b2713f-8ad0-4531-bcc4-5a661092ad4f",
   "metadata": {},
   "outputs": [
    {
     "name": "stdout",
     "output_type": "stream",
     "text": [
      "X_train_clf:\n",
      "     gender  race/ethnicity  parental level of education  lunch  \\\n",
      "29        0               3                            3      1   \n",
      "535       0               2                            1      0   \n",
      "695       0               3                            4      0   \n",
      "557       1               2                            3      0   \n",
      "836       1               4                            2      1   \n",
      "..      ...             ...                          ...    ...   \n",
      "106       0               3                            3      1   \n",
      "270       1               2                            1      1   \n",
      "860       0               2                            0      1   \n",
      "435       1               2                            4      0   \n",
      "102       0               3                            0      1   \n",
      "\n",
      "     test preparation course  prep_effectiveness  \n",
      "29                         1                   1  \n",
      "535                        0                   0  \n",
      "695                        1                   1  \n",
      "557                        1                   1  \n",
      "836                        1                   1  \n",
      "..                       ...                 ...  \n",
      "106                        1                   1  \n",
      "270                        1                   1  \n",
      "860                        1                   1  \n",
      "435                        0                   0  \n",
      "102                        1                   1  \n",
      "\n",
      "[800 rows x 6 columns]\n",
      "\n",
      "X_test_clf:\n",
      "     gender  race/ethnicity  parental level of education  lunch  \\\n",
      "521       0               2                            0      1   \n",
      "737       0               1                            4      0   \n",
      "740       1               3                            1      1   \n",
      "660       1               2                            4      0   \n",
      "411       1               4                            4      1   \n",
      "..      ...             ...                          ...    ...   \n",
      "408       0               3                            2      0   \n",
      "332       1               4                            0      1   \n",
      "208       0               1                            4      0   \n",
      "613       0               2                            0      1   \n",
      "78        0               3                            5      1   \n",
      "\n",
      "     test preparation course  prep_effectiveness  \n",
      "521                        1                   1  \n",
      "737                        0                   0  \n",
      "740                        1                   1  \n",
      "660                        1                   1  \n",
      "411                        0                   0  \n",
      "..                       ...                 ...  \n",
      "408                        0                   0  \n",
      "332                        0                   0  \n",
      "208                        1                   1  \n",
      "613                        1                   1  \n",
      "78                         0                   0  \n",
      "\n",
      "[200 rows x 6 columns]\n",
      "\n",
      "y_train_clf:\n",
      "29     2\n",
      "535    2\n",
      "695    0\n",
      "557    2\n",
      "836    2\n",
      "      ..\n",
      "106    0\n",
      "270    2\n",
      "860    1\n",
      "435    1\n",
      "102    0\n",
      "Name: performance_category, Length: 800, dtype: int32\n",
      "\n",
      "y_test_clf:\n",
      "521    0\n",
      "737    2\n",
      "740    2\n",
      "660    2\n",
      "411    0\n",
      "      ..\n",
      "408    1\n",
      "332    1\n",
      "208    2\n",
      "613    2\n",
      "78     2\n",
      "Name: performance_category, Length: 200, dtype: int32\n"
     ]
    }
   ],
   "source": [
    "X_train_clf, X_test_clf, y_train_clf, y_test_clf = train_test_split(X_clf, y_clf, test_size=0.2, random_state=42)\n",
    "\n",
    "print(\"X_train_clf:\")\n",
    "print(X_train_clf)\n",
    "\n",
    "print(\"\\nX_test_clf:\")\n",
    "print(X_test_clf)\n",
    "\n",
    "print(\"\\ny_train_clf:\")\n",
    "print(y_train_clf)\n",
    "\n",
    "print(\"\\ny_test_clf:\")\n",
    "print(y_test_clf)"
   ]
  },
  {
   "cell_type": "markdown",
   "id": "ab87bdde-405e-4eaa-aac8-6bbac0befa6b",
   "metadata": {},
   "source": [
    "## Logistic Regression"
   ]
  },
  {
   "cell_type": "code",
   "execution_count": 66,
   "id": "1406be97-be96-4ef0-860a-9f2f9be1511a",
   "metadata": {},
   "outputs": [
    {
     "name": "stdout",
     "output_type": "stream",
     "text": [
      "X_test_clf:\n",
      "     gender  race/ethnicity  parental level of education  lunch  \\\n",
      "521       0               2                            0      1   \n",
      "737       0               1                            4      0   \n",
      "740       1               3                            1      1   \n",
      "660       1               2                            4      0   \n",
      "411       1               4                            4      1   \n",
      "..      ...             ...                          ...    ...   \n",
      "408       0               3                            2      0   \n",
      "332       1               4                            0      1   \n",
      "208       0               1                            4      0   \n",
      "613       0               2                            0      1   \n",
      "78        0               3                            5      1   \n",
      "\n",
      "     test preparation course  prep_effectiveness  \n",
      "521                        1                   1  \n",
      "737                        0                   0  \n",
      "740                        1                   1  \n",
      "660                        1                   1  \n",
      "411                        0                   0  \n",
      "..                       ...                 ...  \n",
      "408                        0                   0  \n",
      "332                        0                   0  \n",
      "208                        1                   1  \n",
      "613                        1                   1  \n",
      "78                         0                   0  \n",
      "\n",
      "[200 rows x 6 columns]\n",
      "\n",
      "Actual Labels (y_test_clf):\n",
      "521    0\n",
      "737    2\n",
      "740    2\n",
      "660    2\n",
      "411    0\n",
      "      ..\n",
      "408    1\n",
      "332    1\n",
      "208    2\n",
      "613    2\n",
      "78     2\n",
      "Name: performance_category, Length: 200, dtype: int32\n",
      "\n",
      "Predicted Labels (y_pred_log):\n",
      "[2 2 2 1 2 1 2 2 1 2 1 2 2 2 2 2 2 1 2 2 2 2 2 1 2 2 2 2 2 2 2 2 1 2 2 1 1\n",
      " 2 2 1 2 2 2 2 1 0 1 2 2 2 2 2 2 2 2 2 2 2 2 2 2 2 2 1 2 2 2 1 2 2 2 2 1 1\n",
      " 2 2 2 1 2 2 1 1 2 2 2 1 2 2 2 1 1 2 2 1 2 2 2 2 2 2 2 2 2 2 2 2 2 2 2 2 2\n",
      " 1 2 2 1 2 2 2 2 2 1 1 2 2 2 2 0 2 2 2 2 2 1 0 2 1 2 2 1 1 2 2 2 2 2 1 1 2\n",
      " 2 2 0 2 2 1 2 2 2 2 2 2 2 2 2 2 2 2 2 1 2 2 2 2 2 2 1 2 2 2 2 2 2 1 2 2 2\n",
      " 2 2 2 2 2 2 2 1 1 2 2 2 1 2 2]\n"
     ]
    }
   ],
   "source": [
    "log_reg = LogisticRegression(max_iter=1000)\n",
    "log_reg.fit(X_train_clf, y_train_clf)\n",
    "y_pred_log = log_reg.predict(X_test_clf)\n",
    "\n",
    "\n",
    "print(\"X_test_clf:\")\n",
    "print(X_test_clf)\n",
    "\n",
    "print(\"\\nActual Labels (y_test_clf):\")\n",
    "print(y_test_clf)\n",
    "\n",
    "print(\"\\nPredicted Labels (y_pred_log):\")\n",
    "print(y_pred_log)"
   ]
  },
  {
   "cell_type": "markdown",
   "id": "139346d7-7aa4-40e5-ba1e-f6ecd04d6250",
   "metadata": {},
   "source": [
    "## Decision Tree"
   ]
  },
  {
   "cell_type": "code",
   "execution_count": 82,
   "id": "2f34dc95-e3e0-4310-9f23-00004096c611",
   "metadata": {},
   "outputs": [
    {
     "name": "stdout",
     "output_type": "stream",
     "text": [
      "Predicted labels:\n",
      "[1 2 1 1 2 1 1 2 1 0 1 0 1 2 2 0 2 2 0 1 2 2 2 1 1 2 2 1 0 2 1 2 1 2 2 2 1\n",
      " 0 2 1 0 0 2 1 1 0 1 2 2 2 0 2 0 2 2 0 1 2 1 0 2 1 1 2 2 2 2 1 2 2 0 2 1 2\n",
      " 2 0 0 1 2 2 2 1 0 2 1 1 0 2 0 1 1 2 1 1 2 2 2 1 1 0 0 2 1 2 1 1 2 2 0 2 2\n",
      " 2 1 1 1 2 1 2 1 2 1 1 0 1 0 2 0 0 1 2 0 2 1 0 1 1 0 0 1 2 2 0 1 2 2 2 1 2\n",
      " 2 2 0 0 2 2 2 2 0 1 2 0 0 1 0 1 2 1 1 1 0 2 0 2 0 2 2 1 2 1 0 0 2 1 1 1 2\n",
      " 2 2 0 2 0 2 2 1 0 2 2 0 2 1 0]\n"
     ]
    }
   ],
   "source": [
    "dt = DecisionTreeClassifier(random_state=42)\n",
    "dt.fit(X_train_clf, y_train_clf)\n",
    "y_pred_dt = dt.predict(X_test_clf)\n",
    "\n",
    "print(\"Predicted labels:\")\n",
    "print(y_pred_dt)"
   ]
  },
  {
   "cell_type": "markdown",
   "id": "fa6a3f74-56e8-4ecd-a7fb-4d7732813183",
   "metadata": {},
   "source": [
    "## Random Forest"
   ]
  },
  {
   "cell_type": "code",
   "execution_count": 84,
   "id": "ceef7ff6-96c9-43fd-b0d2-cff5bbfc674d",
   "metadata": {},
   "outputs": [
    {
     "name": "stdout",
     "output_type": "stream",
     "text": [
      "Random Forest predicted labels:\n",
      "[1 2 1 1 2 2 2 2 2 1 1 0 1 2 2 0 2 2 0 1 2 2 2 1 2 2 2 1 0 2 1 2 2 2 2 2 2\n",
      " 0 2 1 0 1 2 1 2 0 1 2 2 2 2 2 0 2 2 0 1 2 2 2 2 1 1 2 2 2 2 1 2 2 0 2 1 2\n",
      " 2 2 2 1 2 2 2 1 1 2 2 1 2 2 2 1 1 2 1 1 2 2 2 1 1 2 0 2 2 2 2 1 2 2 2 2 2\n",
      " 2 2 1 1 2 2 2 2 2 1 1 0 1 0 2 2 2 2 2 0 2 1 0 1 1 0 1 1 2 2 2 2 2 2 2 1 2\n",
      " 2 2 0 0 2 2 2 2 1 1 2 0 0 2 2 2 2 1 1 1 0 2 1 2 0 2 2 1 2 2 0 2 2 1 2 2 2\n",
      " 2 2 0 2 2 2 2 2 0 2 2 0 2 1 0]\n"
     ]
    }
   ],
   "source": [
    "rf_clf = RandomForestClassifier(random_state=42)\n",
    "rf_clf.fit(X_train_clf, y_train_clf)\n",
    "y_pred_rf_clf = rf_clf.predict(X_test_clf)\n",
    "\n",
    "print(\"Random Forest predicted labels:\")\n",
    "print(y_pred_rf_clf)\n"
   ]
  },
  {
   "cell_type": "markdown",
   "id": "945b5d6b-cbeb-454f-84ab-611bfbdc07ce",
   "metadata": {},
   "source": [
    "### Classification Model Evaluation Function"
   ]
  },
  {
   "cell_type": "code",
   "execution_count": 55,
   "id": "b30e862b-4f3a-405e-8b00-3b65e8f653ac",
   "metadata": {},
   "outputs": [
    {
     "name": "stdout",
     "output_type": "stream",
     "text": [
      " Logistic Regression \n",
      "Accuracy: 0.515\n",
      "Classification Report:\n",
      "               precision    recall  f1-score   support\n",
      "\n",
      "           0       0.25      0.03      0.06        31\n",
      "           1       0.42      0.27      0.33        62\n",
      "           2       0.54      0.79      0.65       107\n",
      "\n",
      "    accuracy                           0.52       200\n",
      "   macro avg       0.41      0.37      0.35       200\n",
      "weighted avg       0.46      0.52      0.46       200\n",
      "\n",
      " Decision Tree \n",
      "Accuracy: 0.38\n",
      "Classification Report:\n",
      "               precision    recall  f1-score   support\n",
      "\n",
      "           0       0.23      0.35      0.28        31\n",
      "           1       0.33      0.35      0.34        62\n",
      "           2       0.49      0.40      0.44       107\n",
      "\n",
      "    accuracy                           0.38       200\n",
      "   macro avg       0.35      0.37      0.36       200\n",
      "weighted avg       0.40      0.38      0.39       200\n",
      "\n",
      " Random Forest \n",
      "Accuracy: 0.435\n",
      "Classification Report:\n",
      "               precision    recall  f1-score   support\n",
      "\n",
      "           0       0.19      0.16      0.17        31\n",
      "           1       0.34      0.27      0.30        62\n",
      "           2       0.53      0.61      0.57       107\n",
      "\n",
      "    accuracy                           0.43       200\n",
      "   macro avg       0.35      0.35      0.35       200\n",
      "weighted avg       0.42      0.43      0.42       200\n",
      "\n"
     ]
    }
   ],
   "source": [
    "# -Accuracy score\n",
    "def evaluate_classification(y_true, y_pred, model_name):\n",
    "    print(f\" {model_name} \")\n",
    "    print(\"Accuracy:\", accuracy_score(y_true, y_pred))\n",
    "    print(\"Classification Report:\\n\", classification_report(y_true, y_pred))\n",
    "\n",
    "\n",
    "# 📊 Evaluating Classification Models\n",
    "evaluate_classification(y_test_clf, y_pred_log, \"Logistic Regression\")\n",
    "evaluate_classification(y_test_clf, y_pred_dt, \"Decision Tree\")\n",
    "evaluate_classification(y_test_clf, y_pred_rf_clf, \"Random Forest\")\n"
   ]
  },
  {
   "cell_type": "markdown",
   "id": "10ec5b2b-9e93-4380-bae5-4a48383123b5",
   "metadata": {},
   "source": [
    "## Visualization (Random Forest Classifier)"
   ]
  },
  {
   "cell_type": "code",
   "execution_count": 53,
   "id": "fcb5d668-6dac-48f3-b319-df55fa6efecb",
   "metadata": {},
   "outputs": [
    {
     "data": {
      "image/png": "[encoded data removed]",
      "text/plain": [
       "<Figure size 1000x600 with 1 Axes>"
      ]
     },
     "metadata": {},
     "output_type": "display_data"
    }
   ],
   "source": [
    "importances = pd.Series(rf_clf.feature_importances_, index=X_clf.columns)\n",
    "importances.sort_values().plot(kind='barh', figsize=(10,6), title='Feature Importance (Random Forest)')\n",
    "plt.tight_layout()\n",
    "plt.show()\n"
   ]
  },
  {
   "cell_type": "code",
   "execution_count": null,
   "id": "f5d5d64e-7598-40ed-b783-7726a798088a",
   "metadata": {},
   "outputs": [],
   "source": [
    "        "
   ]
  }
 ],
 "metadata": {
  "kernelspec": {
   "display_name": "Python 3 (ipykernel)",
   "language": "python",
   "name": "python3"
  },
  "language_info": {
   "codemirror_mode": {
    "name": "ipython",
    "version": 3
   },
   "file_extension": ".py",
   "mimetype": "text/x-python",
   "name": "python",
   "nbconvert_exporter": "python",
   "pygments_lexer": "ipython3",
   "version": "3.12.4"
  }
 },
 "nbformat": 4,
 "nbformat_minor": 5
}
